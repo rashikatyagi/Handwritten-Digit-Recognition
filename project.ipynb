{
 "cells": [
  {
   "cell_type": "markdown",
   "id": "91055b60",
   "metadata": {},
   "source": [
    "# Loading the MNIST dataset"
   ]
  },
  {
   "cell_type": "code",
   "execution_count": 11,
   "id": "8327160a",
   "metadata": {},
   "outputs": [],
   "source": [
    "import numpy as np\n",
    "import matplotlib.pyplot as plt\n",
    "from keras.datasets import mnist  # only for loading data"
   ]
  },
  {
   "cell_type": "code",
   "execution_count": 12,
   "id": "8c67683f",
   "metadata": {},
   "outputs": [],
   "source": [
    "# Load the dataset\n",
    "(x_train, y_train), (_, _) = mnist.load_data()"
   ]
  },
  {
   "cell_type": "code",
   "execution_count": 16,
   "id": "65f09a7e",
   "metadata": {},
   "outputs": [
    {
     "name": "stdout",
     "output_type": "stream",
     "text": [
      "x_train (imputs) : (60000, 28, 28)\n",
      "y_train (outputs) : (60000,)\n"
     ]
    }
   ],
   "source": [
    "print('x_train (imputs) : ' + str(x_train.shape))\n",
    "print('y_train (outputs) : ' + str(y_train.shape))"
   ]
  },
  {
   "cell_type": "markdown",
   "id": "924ecff7",
   "metadata": {},
   "source": [
    "# Visualizing data"
   ]
  },
  {
   "cell_type": "code",
   "execution_count": 17,
   "id": "6617d33c",
   "metadata": {},
   "outputs": [],
   "source": [
    "def get_image_using_index(index):\n",
    "    plt.imshow(x_train[index], cmap = \"gray\")\n",
    "    plt.title(\"Label : \" + str(y_train[index]))"
   ]
  },
  {
   "cell_type": "code",
   "execution_count": 18,
   "id": "ee81c857",
   "metadata": {},
   "outputs": [
    {
     "name": "stdout",
     "output_type": "stream",
     "text": [
      "Enter the index : 3\n"
     ]
    },
    {
     "data": {
      "image/png": "[encoded data removed]",
      "text/plain": [
       "<Figure size 640x480 with 1 Axes>"
      ]
     },
     "metadata": {},
     "output_type": "display_data"
    }
   ],
   "source": [
    "index = int(input(\"Enter the index : \"))\n",
    "get_image_using_index(index)"
   ]
  },
  {
   "cell_type": "code",
   "execution_count": 19,
   "id": "1aec50bf",
   "metadata": {},
   "outputs": [],
   "source": [
    "def show_images_of_digit(number):\n",
    "    num = 10\n",
    "    indeces = np.where(y_train == number)[0]\n",
    "    num_images = num\n",
    "    fig, axes = plt.subplots(1, num_images, figsize=(num_images * 2, 2))\n",
    "    \n",
    "    for i in range(num):\n",
    "        image = x_train[indeces[i]].reshape(28, 28)\n",
    "        axes[i].imshow(image, cmap='gray')\n",
    "        axes[i].axis('off')\n",
    "        axes[i].set_title(f'Image {indeces[i]}')\n",
    "    \n",
    "    plt.tight_layout()\n",
    "    plt.show()"
   ]
  },
  {
   "cell_type": "code",
   "execution_count": 21,
   "id": "d46308e3",
   "metadata": {},
   "outputs": [
    {
     "name": "stdout",
     "output_type": "stream",
     "text": [
      "Enter the number whose images you want to see : 3\n"
     ]
    },
    {
     "data": {
      "image/png": "[encoded data removed]",
      "text/plain": [
       "<Figure size 2000x200 with 10 Axes>"
      ]
     },
     "metadata": {},
     "output_type": "display_data"
    }
   ],
   "source": [
    "number = int(input(\"Enter the number whose images you want to see : \"))\n",
    "if(number < 0 or number > 9):\n",
    "    print('Wrong choice of number!')\n",
    "else:\n",
    "    show_images_of_digit(number)"
   ]
  },
  {
   "cell_type": "markdown",
   "id": "194e1bcd",
   "metadata": {},
   "source": [
    "# Binary classification for 3 and 8"
   ]
  },
  {
   "cell_type": "code",
   "execution_count": 22,
   "id": "138d0a71",
   "metadata": {},
   "outputs": [],
   "source": [
    "# Filter out only classes 3 and 8\n",
    "class_3_8 = np.where((y_train == 3) | (y_train == 8))\n",
    "X_train_bin = X_train[class_3_8]\n",
    "y_train_bin = y_train[class_3_8]"
   ]
  },
  {
   "cell_type": "code",
   "execution_count": 23,
   "id": "5dd9ebf0",
   "metadata": {},
   "outputs": [],
   "source": [
    "# Convert labels to binary: 1 for class 3 and 0 for class 8\n",
    "y_train_bin = np.where(y_train_bin == 3, 1, 0)"
   ]
  },
  {
   "cell_type": "code",
   "execution_count": 24,
   "id": "a68a0ae4",
   "metadata": {},
   "outputs": [],
   "source": [
    "# Flatten images for input to the neural network\n",
    "X_train_bin = X_train_bin.reshape(X_train_bin.shape[0], -1) / 255.0"
   ]
  },
  {
   "cell_type": "code",
   "execution_count": 25,
   "id": "7732aae1",
   "metadata": {},
   "outputs": [],
   "source": [
    "class NeuralNetwork:\n",
    "    def __init__(self, input_size, hidden_size, output_size):\n",
    "        # Initialize weights\n",
    "        self.W1 = np.random.randn(input_size, hidden_size) * 0.01\n",
    "        self.b1 = np.zeros((1, hidden_size))\n",
    "        self.W2 = np.random.randn(hidden_size, output_size) * 0.01\n",
    "        self.b2 = np.zeros((1, output_size))\n",
    "\n",
    "    def sigmoid(self, z):\n",
    "        return 1 / (1 + np.exp(-z))\n",
    "    \n",
    "    def sigmoid_derivative(self, z):\n",
    "        return z * (1 - z)\n",
    "    \n",
    "    def forward(self, X):\n",
    "        # Forward propagation\n",
    "        self.Z1 = np.dot(X, self.W1) + self.b1\n",
    "        self.A1 = self.sigmoid(self.Z1)\n",
    "        self.Z2 = np.dot(self.A1, self.W2) + self.b2\n",
    "        self.A2 = self.sigmoid(self.Z2)\n",
    "        return self.A2\n",
    "    \n",
    "    def backward(self, X, y, output, learning_rate):\n",
    "        # Backpropagation\n",
    "        m = X.shape[0]\n",
    "        dZ2 = output - y\n",
    "        dW2 = np.dot(self.A1.T, dZ2) / m\n",
    "        db2 = np.sum(dZ2, axis=0, keepdims=True) / m\n",
    "        \n",
    "        dA1 = np.dot(dZ2, self.W2.T)\n",
    "        dZ1 = dA1 * self.sigmoid_derivative(self.A1)\n",
    "        dW1 = np.dot(X.T, dZ1) / m\n",
    "        db1 = np.sum(dZ1, axis=0, keepdims=True) / m\n",
    "        \n",
    "        # Update weights\n",
    "        self.W1 -= learning_rate * dW1\n",
    "        self.b1 -= learning_rate * db1\n",
    "        self.W2 -= learning_rate * dW2\n",
    "        self.b2 -= learning_rate * db2\n",
    "    \n",
    "    def train(self, X, y, iterations):\n",
    "        for t in range(1, iterations + 1):\n",
    "            learning_rate = 1 / np.sqrt(t)\n",
    "            output = self.forward(X)\n",
    "            self.backward(X, y, output, learning_rate)\n",
    "            if t % 100 == 0:\n",
    "                loss = np.mean((y - output) ** 2)\n",
    "                print(f\"Iteration {t}, Loss: {loss}\")\n",
    "    \n",
    "    def predict(self, X):\n",
    "        output = self.forward(X)\n",
    "        predictions = np.where(output > 0.5, 1, 0)\n",
    "        return predictions"
   ]
  },
  {
   "cell_type": "code",
   "execution_count": 26,
   "id": "e18d3599",
   "metadata": {},
   "outputs": [],
   "source": [
    "# Create the neural network\n",
    "nn = NeuralNetwork(input_size=784, hidden_size=100, output_size=1)"
   ]
  },
  {
   "cell_type": "code",
   "execution_count": 27,
   "id": "a286c9f3",
   "metadata": {},
   "outputs": [
    {
     "name": "stdout",
     "output_type": "stream",
     "text": [
      "Iteration 100, Loss: 0.09485328166394212\n",
      "Iteration 200, Loss: 0.057012864045037775\n",
      "Iteration 300, Loss: 0.04661648971150657\n",
      "Iteration 400, Loss: 0.04167829057995604\n",
      "Iteration 500, Loss: 0.0387789330584117\n",
      "Iteration 600, Loss: 0.036853462717962936\n",
      "Iteration 700, Loss: 0.035466869051952774\n",
      "Iteration 800, Loss: 0.034409977557390004\n",
      "Iteration 900, Loss: 0.03357021651029949\n",
      "Iteration 1000, Loss: 0.032881718221003144\n",
      "Training complete.\n"
     ]
    }
   ],
   "source": [
    "# Train the network\n",
    "y_train_bin = y_train_bin.reshape(-1, 1)\n",
    "nn.train(X_train_bin, y_train_bin, iterations=1000)\n",
    "print(\"Training complete.\")"
   ]
  },
  {
   "cell_type": "markdown",
   "id": "ac11a946",
   "metadata": {},
   "source": [
    "## Accuracy on training set"
   ]
  },
  {
   "cell_type": "code",
   "execution_count": 29,
   "id": "f8e1ae41",
   "metadata": {},
   "outputs": [],
   "source": [
    "predictions = nn.predict(X_train_bin)\n",
    "accuracy = accuracy_score(y_train_bin, predictions)"
   ]
  },
  {
   "cell_type": "code",
   "execution_count": 30,
   "id": "8c23c8fa",
   "metadata": {},
   "outputs": [
    {
     "name": "stdout",
     "output_type": "stream",
     "text": [
      "Accuracy on train set: 0.9601902854281422\n"
     ]
    }
   ],
   "source": [
    "print(f\"Accuracy on train set: {accuracy}\")"
   ]
  },
  {
   "cell_type": "markdown",
   "id": "34b0dce9",
   "metadata": {},
   "source": [
    "## Accuracy on test set"
   ]
  },
  {
   "cell_type": "code",
   "execution_count": 31,
   "id": "dacbfafd",
   "metadata": {},
   "outputs": [],
   "source": [
    "import time\n",
    "from sklearn.metrics import accuracy_score"
   ]
  },
  {
   "cell_type": "code",
   "execution_count": 32,
   "id": "b1d19f17",
   "metadata": {},
   "outputs": [],
   "source": [
    "# Time the training\n",
    "start_time = time.time()"
   ]
  },
  {
   "cell_type": "code",
   "execution_count": 33,
   "id": "2e8bee22",
   "metadata": {},
   "outputs": [],
   "source": [
    "# Load test set\n",
    "(_, _), (X_test, y_test) = mnist.load_data()\n",
    "test_filter = np.where((y_test == 3) | (y_test == 8))\n",
    "X_test_bin = X_test[test_filter].reshape(-1, 784) / 255.0\n",
    "y_test_bin = np.where(y_test[test_filter] == 3, 1, 0)"
   ]
  },
  {
   "cell_type": "code",
   "execution_count": 34,
   "id": "13a4707f",
   "metadata": {},
   "outputs": [],
   "source": [
    "# Test the network\n",
    "predictions = nn.predict(X_test_bin)\n",
    "accuracy = accuracy_score(y_test_bin, predictions)\n",
    "training_time = time.time() - start_time"
   ]
  },
  {
   "cell_type": "code",
   "execution_count": 35,
   "id": "dd00b3ee",
   "metadata": {},
   "outputs": [
    {
     "name": "stdout",
     "output_type": "stream",
     "text": [
      "Accuracy on test set: 0.9662298387096774\n",
      "Training time: 19.27421808242798 seconds\n"
     ]
    }
   ],
   "source": [
    "print(f\"Accuracy on test set: {accuracy}\")\n",
    "print(f\"Training time: {training_time} seconds\")"
   ]
  },
  {
   "cell_type": "markdown",
   "id": "9d7b986f",
   "metadata": {},
   "source": [
    "# Multiclass classification for 10 outputs"
   ]
  },
  {
   "cell_type": "code",
   "execution_count": 36,
   "id": "5f01947d",
   "metadata": {},
   "outputs": [],
   "source": [
    "from keras.utils import to_categorical"
   ]
  },
  {
   "cell_type": "code",
   "execution_count": 37,
   "id": "69c6310b",
   "metadata": {},
   "outputs": [],
   "source": [
    "# Flatten the images and normalize pixel values\n",
    "X_train_multiclass = X_train.reshape(X_train.shape[0], -1) / 255.0\n",
    "y_train_multiclass = to_categorical(y_train, num_classes=10)"
   ]
  },
  {
   "cell_type": "code",
   "execution_count": 38,
   "id": "60a85ab1",
   "metadata": {},
   "outputs": [],
   "source": [
    "X_test_multiclass = X_test.reshape(X_test.shape[0], -1) / 255.0\n",
    "y_test_multiclass = to_categorical(y_test, num_classes=10)"
   ]
  },
  {
   "cell_type": "code",
   "execution_count": 39,
   "id": "f1d3e86b",
   "metadata": {},
   "outputs": [],
   "source": [
    "def softmax(z):\n",
    "    exp_z = np.exp(z - np.max(z, axis=1, keepdims=True))\n",
    "    return exp_z / np.sum(exp_z, axis=1, keepdims=True)"
   ]
  },
  {
   "cell_type": "code",
   "execution_count": 40,
   "id": "28fe2391",
   "metadata": {},
   "outputs": [],
   "source": [
    "class MulticlassNeuralNetwork:\n",
    "    def __init__(self, input_size, hidden_size, output_size):\n",
    "        # Initialize weights\n",
    "        self.W1 = np.random.randn(input_size, hidden_size) * 0.01\n",
    "        self.b1 = np.zeros((1, hidden_size))\n",
    "        self.W2 = np.random.randn(hidden_size, output_size) * 0.01\n",
    "        self.b2 = np.zeros((1, output_size))\n",
    "\n",
    "    def relu(self, z):\n",
    "        return np.maximum(0, z)\n",
    "    \n",
    "    def relu_derivative(self, z):\n",
    "        return np.where(z > 0, 1, 0)\n",
    "    \n",
    "    def forward(self, X):\n",
    "        # Forward propagation\n",
    "        self.Z1 = np.dot(X, self.W1) + self.b1\n",
    "        self.A1 = self.relu(self.Z1)\n",
    "        self.Z2 = np.dot(self.A1, self.W2) + self.b2\n",
    "        self.A2 = softmax(self.Z2)\n",
    "        return self.A2\n",
    "    \n",
    "    def backward(self, X, y, output, learning_rate):\n",
    "        # Backpropagation\n",
    "        m = X.shape[0]\n",
    "        dZ2 = output - y\n",
    "        dW2 = np.dot(self.A1.T, dZ2) / m\n",
    "        db2 = np.sum(dZ2, axis=0, keepdims=True) / m\n",
    "        \n",
    "        dA1 = np.dot(dZ2, self.W2.T)\n",
    "        dZ1 = dA1 * self.relu_derivative(self.A1)\n",
    "        dW1 = np.dot(X.T, dZ1) / m\n",
    "        db1 = np.sum(dZ1, axis=0, keepdims=True) / m\n",
    "        \n",
    "        # Update weights\n",
    "        self.W1 -= learning_rate * dW1\n",
    "        self.b1 -= learning_rate * db1\n",
    "        self.W2 -= learning_rate * dW2\n",
    "        self.b2 -= learning_rate * db2\n",
    "    \n",
    "    def train(self, X, y, iterations):\n",
    "        for t in range(1, iterations + 1):\n",
    "            learning_rate = 1 / np.sqrt(t)\n",
    "            output = self.forward(X)\n",
    "            self.backward(X, y, output, learning_rate)\n",
    "            if t % 100 == 0:\n",
    "                loss = -np.mean(np.sum(y * np.log(output + 1e-8), axis=1))  # Cross-entropy loss\n",
    "                print(f\"Iteration {t}, Loss: {loss}\")\n",
    "    \n",
    "    def predict(self, X):\n",
    "        output = self.forward(X)\n",
    "        predictions = np.argmax(output, axis=1)\n",
    "        return predictions"
   ]
  },
  {
   "cell_type": "code",
   "execution_count": 41,
   "id": "f82e9ed6",
   "metadata": {},
   "outputs": [],
   "source": [
    "# Create the multiclass neural network\n",
    "nn_multiclass = MulticlassNeuralNetwork(input_size=784, hidden_size=100, output_size=10)"
   ]
  },
  {
   "cell_type": "code",
   "execution_count": 42,
   "id": "6bf421dc",
   "metadata": {},
   "outputs": [
    {
     "name": "stdout",
     "output_type": "stream",
     "text": [
      "Iteration 100, Loss: 0.5431095493104755\n",
      "Iteration 200, Loss: 0.43306521084905397\n",
      "Iteration 300, Loss: 0.39236889928965807\n",
      "Iteration 400, Loss: 0.36986038214394956\n",
      "Iteration 500, Loss: 0.3549482771470647\n",
      "Iteration 600, Loss: 0.3439606764744318\n",
      "Iteration 700, Loss: 0.33530651584956844\n",
      "Iteration 800, Loss: 0.32821383066335164\n",
      "Iteration 900, Loss: 0.3221987898686543\n",
      "Iteration 1000, Loss: 0.3169798617121611\n"
     ]
    }
   ],
   "source": [
    "# Train the network on the multiclass MNIST dataset\n",
    "nn_multiclass.train(X_train_multiclass, y_train_multiclass, iterations=1000)"
   ]
  },
  {
   "cell_type": "markdown",
   "id": "9e1bee49",
   "metadata": {},
   "source": [
    "## Accuracy on training set"
   ]
  },
  {
   "cell_type": "code",
   "execution_count": 43,
   "id": "b67396a7",
   "metadata": {},
   "outputs": [],
   "source": [
    "y_pred_multiclass = nn_multiclass.predict(X_train_multiclass)\n",
    "y_train_labels = np.argmax(y_train_multiclass, axis=1)"
   ]
  },
  {
   "cell_type": "code",
   "execution_count": 44,
   "id": "e9b746c3",
   "metadata": {},
   "outputs": [
    {
     "name": "stdout",
     "output_type": "stream",
     "text": [
      "Multiclass Classification Accuracy: 0.91035\n"
     ]
    }
   ],
   "source": [
    "accuracy_multiclass = np.mean(y_pred_multiclass == y_train_labels)\n",
    "print(f\"Multiclass Classification Accuracy: {accuracy_multiclass}\")"
   ]
  },
  {
   "cell_type": "markdown",
   "id": "ece32ee9",
   "metadata": {},
   "source": [
    "## Accuracy on test set"
   ]
  },
  {
   "cell_type": "code",
   "execution_count": 45,
   "id": "93788f2b",
   "metadata": {},
   "outputs": [],
   "source": [
    "y_pred_multiclass = nn_multiclass.predict(X_test_multiclass)\n",
    "y_test_labels = np.argmax(y_test_multiclass, axis=1)"
   ]
  },
  {
   "cell_type": "code",
   "execution_count": 46,
   "id": "52e88d03",
   "metadata": {},
   "outputs": [
    {
     "name": "stdout",
     "output_type": "stream",
     "text": [
      "Multiclass Classification Accuracy: 0.9127\n"
     ]
    }
   ],
   "source": [
    "accuracy_multiclass = np.mean(y_pred_multiclass == y_test_labels)\n",
    "print(f\"Multiclass Classification Accuracy: {accuracy_multiclass}\")"
   ]
  }
 ],
 "metadata": {
  "kernelspec": {
   "display_name": "Python 3 (ipykernel)",
   "language": "python",
   "name": "python3"
  },
  "language_info": {
   "codemirror_mode": {
    "name": "ipython",
    "version": 3
   },
   "file_extension": ".py",
   "mimetype": "text/x-python",
   "name": "python",
   "nbconvert_exporter": "python",
   "pygments_lexer": "ipython3",
   "version": "3.11.4"
  }
 },
 "nbformat": 4,
 "nbformat_minor": 5
}
